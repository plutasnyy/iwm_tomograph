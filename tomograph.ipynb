{
 "cells": [
  {
   "cell_type": "code",
   "execution_count": 75,
   "metadata": {},
   "outputs": [],
   "source": [
    "import cv2\n",
    "from math import *\n",
    "import matplotlib.pyplot as plt\n",
    "import numpy as np\n",
    "from matplotlib.patches import Circle\n",
    "from PIL import Image\n",
    "from math import pi"
   ]
  },
  {
   "cell_type": "code",
   "execution_count": 65,
   "metadata": {},
   "outputs": [],
   "source": [
    "def bresenham(q,w):\n",
    "    x0,y0 = q[0],q[1]\n",
    "    x1,y1 = w[0],w[1]\n",
    "    dx=abs(x0-x1)\n",
    "    dy=abs(y0-y1)\n",
    "    line=[]\n",
    "    sx = 1 if x0<x1 else -1\n",
    "    sy = 1 if y0<y1 else -1\n",
    "    dif = dx - dy\n",
    "    while True:\n",
    "        line.append([x0,y0])\n",
    "        if x0==x1 and y0==y1:\n",
    "            return line\n",
    "        dif2 = 2*dif\n",
    "        if dif2 > -dy:\n",
    "            # overshot in the y direction\n",
    "            dif = dif - dy\n",
    "            x0 = x0 + sx\n",
    "        if dif2 < dx:\n",
    "            # overshot in the x direction\n",
    "            dif = dif + dx\n",
    "            y0 = y0 + sy"
   ]
  },
  {
   "cell_type": "code",
   "execution_count": 13,
   "metadata": {},
   "outputs": [
    {
     "data": {
      "text/plain": [
       "[[1, 2], [2, 3], [3, 4], [4, 5], [5, 6]]"
      ]
     },
     "execution_count": 13,
     "metadata": {},
     "output_type": "execute_result"
    }
   ],
   "source": [
    "line = bresenham(1,2,5,6)\n",
    "line"
   ]
  },
  {
   "cell_type": "code",
   "execution_count": 55,
   "metadata": {},
   "outputs": [],
   "source": [
    "def emiterDetector(point,rad,alfa,nrDetector,beta):\n",
    "    x0 = p[0]\n",
    "    y0 = p[1]\n",
    "    e = [r * cos(alfa) + x0,r * sin(alfa)+y0]\n",
    "    print(e)\n",
    "    detectors = [[r*cos(alfa + pi - beta/2 )+x0,r*sin(alfa + pi - beta/2)+y0]]\n",
    "    for i in range(1,nrDetector):\n",
    "        detectors.append([r*cos(alfa + pi -beta/2 + i * beta/(nrDetector - 1))+x0,r*sin(alfa + pi -beta/2 + i * beta/(nrDetector - 1))+y0])\n",
    "    return e,detectors\n",
    "    "
   ]
  },
  {
   "cell_type": "code",
   "execution_count": 74,
   "metadata": {},
   "outputs": [
    {
     "name": "stdout",
     "output_type": "stream",
     "text": [
      "[449.3604639640269, 83.82988029028422]\n",
      "[449.3604639640269, 83.82988029028422]\n",
      "[[508.26214751073667, 701.1300506697455], [492.2706006515558, 706.4084467755436], [476.0235155573365, 710.8382619342467], [459.5658876157795, 714.4072280221056], [442.94329530114425, 717.1054609884206], [426.20177394724294, 718.9254882288614], [409.38768825516587, 719.8622692804261], [392.54760388885376, 719.9132097807194], [375.7281585141144, 719.078168652893], [358.9759326382233, 717.3594584963498], [342.33732060784416, 714.7618391821306], [325.85840212248826, 711.2925046707186], [309.5848146193842, 706.9610630887717], [293.56162688315584, 701.779510119954], [277.8332142303732, 695.7621957835688], [262.44313561460183, 688.9257846929851], [247.43401299233497, 681.2892099039296], [232.847413283886, 672.8736204804561], [218.72373325613432, 663.7023229237976], [205.10208764596516, 653.8007166263305]]\n"
     ]
    },
    {
     "data": {
      "image/png": "[encoded data removed]",
      "text/plain": [
       "<Figure size 432x288 with 1 Axes>"
      ]
     },
     "metadata": {
      "needs_background": "light"
     },
     "output_type": "display_data"
    }
   ],
   "source": [
    "old_im = Image.open('Kolo.jpg')\n",
    "old_size = old_im.size\n",
    "x = old_size[0]\n",
    "y = old_size[1]\n",
    "r = 0.8*max(x,y)\n",
    "\n",
    "\n",
    "new_size = (x*2, y*2)\n",
    "new_im = Image.new(\"RGB\", new_size)   ## luckily, this is already black!\n",
    "new_im.paste(old_im, ((new_size[0]-old_size[0])//2,\n",
    "                      (new_size[1]-old_size[1])//2))\n",
    "\n",
    "s = [new_size[0]/2,new_size[1]/2]\n",
    "new_im.show()\n",
    "\n",
    "w, q = emiterDetector(s,r,30,20,1)\n",
    "print(w)\n",
    "print(q)\n",
    "fig,ax = plt.subplots(1)\n",
    "\n",
    "ax.set_aspect('equal')\n",
    "\n",
    "# Show the image\n",
    "ax.imshow(new_im)\n",
    "ax.add_patch(Circle((w[0],w[1]),3))\n",
    "# Now, loop through coord arrays, and create a circle at each x,y pair\n",
    "for z in q:\n",
    "    circ = Circle((z[0],z[1]),3)\n",
    "    ax.add_patch(circ)\n",
    "\n",
    "# Show the image\n",
    "plt.show()"
   ]
  },
  {
   "cell_type": "code",
   "execution_count": null,
   "metadata": {},
   "outputs": [],
   "source": []
  }
 ],
 "metadata": {
  "kernelspec": {
   "display_name": "Python 3",
   "language": "python",
   "name": "python3"
  },
  "language_info": {
   "codemirror_mode": {
    "name": "ipython",
    "version": 3
   },
   "file_extension": ".py",
   "mimetype": "text/x-python",
   "name": "python",
   "nbconvert_exporter": "python",
   "pygments_lexer": "ipython3",
   "version": "3.7.0"
  }
 },
 "nbformat": 4,
 "nbformat_minor": 2
}
