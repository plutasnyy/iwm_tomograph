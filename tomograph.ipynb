{
 "cells": [
  {
   "cell_type": "code",
   "execution_count": null,
   "metadata": {},
   "outputs": [],
   "source": []
  },
  {
   "cell_type": "code",
   "execution_count": 9,
   "metadata": {},
   "outputs": [],
   "source": [
    "def bresenham(x0,y0,x1,y1):\n",
    "    dx=abs(x0-x1)\n",
    "    dy=abs(y0-y1)\n",
    "    line=[]\n",
    "    sx = 1 if x0<x1 else -1\n",
    "    sy = 1 if y0<y1 else -1\n",
    "    dif = dx - dy\n",
    "    while True:\n",
    "        line.append([x0,y0])\n",
    "        if x0==x1 and y0==y1:\n",
    "            return line\n",
    "        dif2 = 2*dif\n",
    "        if dif2 > -dy:\n",
    "            # overshot in the y direction\n",
    "            dif = dif - dy\n",
    "            x0 = x0 + sx\n",
    "        if dif2 < dx:\n",
    "            # overshot in the x direction\n",
    "            dif = dif + dx\n",
    "            y0 = y0 + sy"
   ]
  },
  {
   "cell_type": "code",
   "execution_count": 13,
   "metadata": {},
   "outputs": [
    {
     "data": {
      "text/plain": [
       "[[1, 2], [2, 3], [3, 4], [4, 5], [5, 6]]"
      ]
     },
     "execution_count": 13,
     "metadata": {},
     "output_type": "execute_result"
    }
   ],
   "source": [
    "line = bresenham(1,2,5,6)\n",
    "line"
   ]
  }
 ],
 "metadata": {
  "kernelspec": {
   "display_name": "Python 3",
   "language": "python",
   "name": "python3"
  },
  "language_info": {
   "codemirror_mode": {
    "name": "ipython",
    "version": 3
   },
   "file_extension": ".py",
   "mimetype": "text/x-python",
   "name": "python",
   "nbconvert_exporter": "python",
   "pygments_lexer": "ipython3",
   "version": "3.7.0"
  }
 },
 "nbformat": 4,
 "nbformat_minor": 2
}
