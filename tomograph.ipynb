{
 "cells": [
  {
   "cell_type": "code",
   "execution_count": 1,
   "metadata": {},
   "outputs": [
    {
     "data": {
      "text/plain": [
       "Box(children=(Box(children=(Label(value='Iterations'), interactive(children=(IntSlider(value=100, continuous_u…"
      ]
     },
     "metadata": {},
     "output_type": "display_data"
    }
   ],
   "source": [
    "%gui qt\n",
    "\n",
    "from core.jupyter.setup_form import get_setup_form\n",
    "from core.configuration.configuration_agregator import ConfigurationAggregator\n",
    "\n",
    "conf = ConfigurationAggregator()\n",
    "get_setup_form(conf)"
   ]
  },
  {
   "cell_type": "code",
   "execution_count": null,
   "metadata": {
    "scrolled": true
   },
   "outputs": [
    {
     "data": {
      "text/plain": [
       "<Figure size 640x480 with 1 Axes>"
      ]
     },
     "metadata": {},
     "output_type": "display_data"
    },
    {
     "data": {
      "text/plain": [
       "<Figure size 640x480 with 1 Axes>"
      ]
     },
     "metadata": {},
     "output_type": "display_data"
    },
    {
     "name": "stdout",
     "output_type": "stream",
     "text": [
      "MSE: 65.95\n"
     ]
    }
   ],
   "source": [
    "import pydicom\n",
    "from PIL import Image\n",
    "\n",
    "from core.configuration.configuration_agregator import ConfigurationAggregator\n",
    "from core.sinogram import Sinogram\n",
    "from core.utils.dicom_write import write_dicom\n",
    "from core.image_processor import ImageProcessor\n",
    "\n",
    "image = Image.open('images/Kwadraty2.jpg').convert('L')\n",
    "conf = ConfigurationAggregator(\n",
    "    iterations=150,\n",
    "    quantity_of_detectors=100,\n",
    "    dispersion=90,\n",
    "    is_filter=False\n",
    ")\n",
    "\n",
    "sinogram = Sinogram(conf)\n",
    "for iteration, _ in sinogram.create_sinogram_from_image(image):\n",
    "    print('Iteration: {}/{}'.format(iteration, conf.iterations))\n",
    "\n",
    "image2 = sinogram.sinogram_to_image()\n",
    "\n",
    "print('MSE: {0:0.2f}'.format(ImageProcessor.calculate_medium_squared_error(image2, sinogram.image)))\n",
    "\n",
    "\n"
   ]
  },
  {
   "cell_type": "code",
   "execution_count": 3,
   "metadata": {},
   "outputs": [
    {
     "data": {
      "text/plain": [
       "Box(children=(Box(children=(Label(value='Name'), interactive(children=(Text(value='Kamil Plucisnki', descripti…"
      ]
     },
     "metadata": {},
     "output_type": "display_data"
    }
   ],
   "source": [
    "from core.jupyter.dicom_form import get_dicom_form\n",
    "get_dicom_form(conf)"
   ]
  },
  {
   "cell_type": "code",
   "execution_count": null,
   "metadata": {},
   "outputs": [],
   "source": []
  }
 ],
 "metadata": {
  "kernelspec": {
   "display_name": "Python 3",
   "language": "python",
   "name": "python3"
  },
  "language_info": {
   "codemirror_mode": {
    "name": "ipython",
    "version": 3
   },
   "file_extension": ".py",
   "mimetype": "text/x-python",
   "name": "python",
   "nbconvert_exporter": "python",
   "pygments_lexer": "ipython3",
   "version": "3.6.7"
  }
 },
 "nbformat": 4,
 "nbformat_minor": 2
}
